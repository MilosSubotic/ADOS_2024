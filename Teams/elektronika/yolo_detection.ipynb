{
  "cells": [
    {
      "cell_type": "code",
      "execution_count": null,
      "metadata": {
        "colab": {
          "base_uri": "https://localhost:8080/"
        },
        "id": "690Mgmpod7QD",
        "outputId": "135ad798-47bd-4081-86ff-2dd3a9880b9f"
      },
      "outputs": [],
      "source": [
        "import os\n",
        "HOME = os.getcwd()\n",
        "\n",
        "!pip install ultralytics\n",
        "from IPython import display\n",
        "display.clear_output()\n",
        "\n",
        "import ultralytics\n",
        "ultralytics.checks()"
      ]
    },
    {
      "cell_type": "code",
      "execution_count": null,
      "metadata": {
        "id": "NOVjd-T7d93J"
      },
      "outputs": [],
      "source": [
        "from ultralytics import YOLO\n",
        "\n",
        "from IPython.display import display, Image"
      ]
    },
    {
      "cell_type": "code",
      "execution_count": null,
      "metadata": {
        "colab": {
          "base_uri": "https://localhost:8080/"
        },
        "id": "6qpjoLOHeEOY",
        "outputId": "05336f2e-293e-4c9c-ede6-2c3c413ea15f"
      },
      "outputs": [],
      "source": [
        "!mkdir {HOME}/datasets\n",
        "%cd {HOME}/datasets\n",
        "\n",
        "!pip install roboflow\n",
        "\n",
        "from roboflow import Roboflow\n",
        "rf = Roboflow(api_key=\"<redacted>\")\n",
        "project = rf.workspace(\"<redacted>\").project(\"<redacted>\")\n",
        "dataset = project.version(2).download(\"yolov8\")\n",
        "print(dataset.location)"
      ]
    },
    {
      "cell_type": "code",
      "execution_count": null,
      "metadata": {
        "colab": {
          "base_uri": "https://localhost:8080/"
        },
        "id": "wcsLWjiPeNgN",
        "outputId": "02f30ab6-02ee-4542-c41c-64d5a9fc1901"
      },
      "outputs": [],
      "source": [
        "%cd {HOME}\n",
        "!echo {dataset.location}\n",
        "!yolo task=detect mode=train model=yolov8s.pt data={dataset.location}/data.yaml epochs=100 batch=0.70 dropout=0.05 plots=True device=0 cache=ram"
      ]
    },
    {
      "cell_type": "code",
      "execution_count": null,
      "metadata": {
        "colab": {
          "base_uri": "https://localhost:8080/"
        },
        "id": "oRssf2oAQDFK",
        "outputId": "60c334b8-044d-4a67-d1a5-b611a451ea22"
      },
      "outputs": [],
      "source": [
        "!yolo task=detect mode=predict model=./runs/detect/train8/weights/best.pt conf=0.8 save=True source=./datasets/ADOS-2/test/images"
      ]
    },
    {
      "cell_type": "code",
      "execution_count": null,
      "metadata": {
        "colab": {
          "base_uri": "https://localhost:8080/",
          "height": 1000
        },
        "id": "nR_aoOveQbdf",
        "outputId": "bf40abb5-c7f1-44e4-d125-7d1c93a6eb3a"
      },
      "outputs": [],
      "source": [
        "import glob\n",
        "from IPython.display import Image, display\n",
        "\n",
        "for image_path in glob.glob(f'./runs/detect/predict/*.jpg')[:]:\n",
        "      display(Image(filename=image_path, width=640))\n",
        "      print(\"\\n\")"
      ]
    }
  ],
  "metadata": {
    "accelerator": "GPU",
    "colab": {
      "gpuType": "T4",
      "provenance": []
    },
    "kernelspec": {
      "display_name": "Python 3",
      "name": "python3"
    },
    "language_info": {
      "name": "python"
    }
  },
  "nbformat": 4,
  "nbformat_minor": 0
}
