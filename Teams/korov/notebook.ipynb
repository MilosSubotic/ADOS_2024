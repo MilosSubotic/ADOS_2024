{
 "cells": [
  {
   "cell_type": "markdown",
   "metadata": {
    "id": "FyRdDYkqAKN4"
   },
   "source": [
    "## Before you start\n",
    "\n",
    "Let's make sure that we have access to GPU. We can use `nvidia-smi` command to do that. In case of any problems navigate to `Edit` -> `Notebook settings` -> `Hardware accelerator`, set it to `GPU`, and then click `Save`."
   ]
  },
  {
   "cell_type": "code",
   "execution_count": null,
   "metadata": {
    "colab": {
     "base_uri": "https://localhost:8080/"
    },
    "id": "Y8cDtxLIBHgQ",
    "outputId": "f4d7f4b6-9cf8-4e85-c173-b435642a570f"
   },
   "outputs": [],
   "source": [
    "!{sys.executable} -m nvidia-smi"
   ]
  },
  {
   "cell_type": "code",
   "execution_count": null,
   "metadata": {
    "colab": {
     "base_uri": "https://localhost:8080/"
    },
    "id": "CjpPg4mGKc1v",
    "outputId": "9311d67a-2c89-4bab-f16d-a481cb470be7"
   },
   "outputs": [],
   "source": [
    "import os\n",
    "HOME = os.getcwd()\n",
    "print(HOME)"
   ]
  },
  {
   "cell_type": "markdown",
   "metadata": {
    "id": "3C3EO_2zNChu"
   },
   "source": [
    "## Install YOLOv10"
   ]
  },
  {
   "cell_type": "markdown",
   "metadata": {
    "id": "eBrlDQHUo_M5"
   },
   "source": [
    "**NOTE:** Currently, YOLOv10 does not have its own PyPI package. Therefore, we need to install the code from the source."
   ]
  },
  {
   "cell_type": "code",
   "execution_count": null,
   "metadata": {
    "colab": {
     "base_uri": "https://localhost:8080/"
    },
    "id": "tdSMcABDNKW-",
    "outputId": "c80e35a5-3055-4bf1-d65b-bbd5f75a5594"
   },
   "outputs": [],
   "source": [
    "!pip install -q git+https://github.com/THU-MIG/yolov10.git"
   ]
  },
  {
   "cell_type": "markdown",
   "metadata": {
    "id": "Szn2UQBxqxnR"
   },
   "source": [
    "**NOTE:** We will also install two additional packages: [`roboflow`](https://github.com/roboflow/roboflow-python) to download the dataset from [Roboflow Universe](https://universe.roboflow.com/), which we will use to train our model, and [`supervision`](https://github.com/roboflow/supervision), which we will use for visualizing the results."
   ]
  },
  {
   "cell_type": "code",
   "execution_count": null,
   "metadata": {
    "colab": {
     "base_uri": "https://localhost:8080/"
    },
    "id": "Bf6A7E9glExI",
    "outputId": "a388e072-0a12-4577-8cd1-0bf50bd2a6f0"
   },
   "outputs": [],
   "source": [
    "!pip install -q supervision roboflow"
   ]
  },
  {
   "cell_type": "markdown",
   "metadata": {
    "id": "JMEtcxdshoEC"
   },
   "source": [
    "## Download pre-trained weights"
   ]
  },
  {
   "cell_type": "markdown",
   "metadata": {
    "id": "CF1nAW3Dri83"
   },
   "source": [
    "**NOTE:** YOLOv10 provides weight files pre-trained on the COCO dataset in various sizes. Let's download them."
   ]
  },
  {
   "cell_type": "code",
   "execution_count": null,
   "metadata": {
    "colab": {
     "base_uri": "https://localhost:8080/"
    },
    "id": "2l67kw8xiYPX",
    "outputId": "623d812e-d462-4346-c992-0218854b52e9"
   },
   "outputs": [],
   "source": [
    "!{sys.executable} -m mkdir -p {HOME}/weights\n",
    "!{sys.executable} -m wget -P {HOME}/weights -q https://github.com/THU-MIG/yolov10/releases/download/v1.1/yolov10n.pt\n",
    "!{sys.executable} -m wget -P {HOME}/weights -q https://github.com/THU-MIG/yolov10/releases/download/v1.1/yolov10s.pt\n",
    "!{sys.executable} -m wget -P {HOME}/weights -q https://github.com/THU-MIG/yolov10/releases/download/v1.1/yolov10m.pt\n",
    "# !{sys.executable} -m wget -P {HOME}/weights -q https://github.com/THU-MIG/yolov10/releases/download/v1.1/yolov10b.pt\n",
    "# !{sys.executable} -m wget -P {HOME}/weights -q https://github.com/THU-MIG/yolov10/releases/download/v1.1/yolov10x.pt\n",
    "# !{sys.executable} -m wget -P {HOME}/weights -q https://github.com/THU-MIG/yolov10/releases/download/v1.1/yolov10l.pt\n",
    "!{sys.executable} -m ls -lh {HOME}/weights"
   ]
  },
  {
   "cell_type": "markdown",
   "metadata": {
    "id": "QGXXr46SlXrr"
   },
   "source": [
    "## Download example data\n",
    "\n",
    "**NONE:** Let's download few example images. Feel free to use your images or videos."
   ]
  },
  {
   "cell_type": "code",
   "execution_count": null,
   "metadata": {
    "colab": {
     "base_uri": "https://localhost:8080/"
    },
    "id": "HzN8FRtSlemo",
    "outputId": "d339ac37-b02b-4db5-de06-fecbcad1f5de"
   },
   "outputs": [],
   "source": [
    "!{sys.executable} -m mkdir -p {HOME}/data\n",
    "!{sys.executable} -m wget -P {HOME}/data -q https://media.roboflow.com/notebooks/examples/dog.jpeg\n",
    "!{sys.executable} -m ls -lh {HOME}/data"
   ]
  },
  {
   "cell_type": "markdown",
   "metadata": {
    "id": "s5RGYA6sPgEd"
   },
   "source": [
    "## Inference with Pre-trained COCO Model"
   ]
  },
  {
   "cell_type": "markdown",
   "metadata": {
    "id": "i4Z0cZapszEY"
   },
   "source": [
    "**NOTE:** YOLOv10 is based on YOLOv8, and like YOLOv8, it can be used in both CLI and SDK modes."
   ]
  },
  {
   "cell_type": "markdown",
   "metadata": {
    "id": "fT1qD4toTTw0"
   },
   "source": [
    "### 💻 CLI"
   ]
  },
  {
   "cell_type": "code",
   "execution_count": null,
   "metadata": {
    "colab": {
     "base_uri": "https://localhost:8080/"
    },
    "id": "FDbMt_M6PiXb",
    "outputId": "0816a3ff-5384-4bba-8abf-29da8fa89c76"
   },
   "outputs": [],
   "source": [
    "!python -V\n",
    "!pip install huggingface huggingface_hub\n",
    "%cd {HOME}\n",
    "\n",
    "!yolo task=detect mode=predict conf=0.25 save=True \\\n",
    "model={HOME}/weights/yolov10n.pt \\\n",
    "source={HOME}/data/dog.jpeg"
   ]
  },
  {
   "cell_type": "markdown",
   "metadata": {
    "id": "ZN9CdBZ2nYRf"
   },
   "source": [
    "**NONE:** Let's display result."
   ]
  },
  {
   "cell_type": "code",
   "execution_count": null,
   "metadata": {
    "colab": {
     "base_uri": "https://localhost:8080/",
     "height": 634
    },
    "id": "LyopYpK1TQrB",
    "outputId": "769e5dd2-7cb3-47c8-ab5a-027959b6f6e1"
   },
   "outputs": [],
   "source": [
    "%cd {HOME}\n",
    "\n",
    "from IPython.display import Image\n",
    "\n",
    "Image(filename='runs/detect/predict/dog.jpeg', height=600)"
   ]
  },
  {
   "cell_type": "markdown",
   "metadata": {
    "id": "AFMBYQtMVL-B"
   },
   "source": [
    "### 🐍 Python SDK"
   ]
  },
  {
   "cell_type": "code",
   "execution_count": null,
   "metadata": {
    "colab": {
     "base_uri": "https://localhost:8080/"
    },
    "id": "Rx9NWF-sVN6Y",
    "outputId": "c7ee4c8b-c236-4719-ec6f-cee6b264ca49"
   },
   "outputs": [],
   "source": [
    "from ultralytics import YOLOv10\n",
    "\n",
    "model = YOLOv10(f'{HOME}/weights/yolov10n.pt')\n",
    "results = model(source=f'{HOME}/data/dog.jpeg', conf=0.25)\n",
    "results = model(source=f'{HOME}/data/dog.jpeg', conf=0.25)\n",
    "results = model(source=f'{HOME}/data/dog.jpeg', conf=0.25)\n",
    "results = model(source=f'{HOME}/data/dog.jpeg', conf=0.25)\n",
    "results = model(source=f'{HOME}/data/dog.jpeg', conf=0.25)\n",
    "results = model(source=f'{HOME}/data/dog.jpeg', conf=0.25)"
   ]
  },
  {
   "cell_type": "code",
   "execution_count": null,
   "metadata": {
    "colab": {
     "base_uri": "https://localhost:8080/"
    },
    "id": "kAi4PvrItTCf",
    "outputId": "23f9042c-2bcc-4ca7-e4c3-606093008a7e"
   },
   "outputs": [],
   "source": [
    "results[0].boxes.xyxy"
   ]
  },
  {
   "cell_type": "code",
   "execution_count": null,
   "metadata": {
    "colab": {
     "base_uri": "https://localhost:8080/"
    },
    "id": "HqT2M01K1LUb",
    "outputId": "7cc3f419-7cd9-4fd0-f073-928e99cd7b20"
   },
   "outputs": [],
   "source": [
    "results[0].boxes.conf"
   ]
  },
  {
   "cell_type": "code",
   "execution_count": null,
   "metadata": {
    "colab": {
     "base_uri": "https://localhost:8080/"
    },
    "id": "gKIwJ5yw1PMb",
    "outputId": "84f1240d-0284-4f02-9f5c-951ed02576e5"
   },
   "outputs": [],
   "source": [
    "results[0].boxes.cls"
   ]
  },
  {
   "cell_type": "markdown",
   "metadata": {
    "id": "O26ZKAsindq8"
   },
   "source": [
    "**NONE:** Let's display result using `supervision`."
   ]
  },
  {
   "cell_type": "code",
   "execution_count": null,
   "metadata": {
    "colab": {
     "base_uri": "https://localhost:8080/",
     "height": 1000
    },
    "id": "SaKTSzSWnG7s",
    "outputId": "7b618572-fcfa-4956-83ef-a68ef9982cc7"
   },
   "outputs": [],
   "source": [
    "import cv2\n",
    "import supervision as sv\n",
    "from ultralytics import YOLOv10\n",
    "\n",
    "model = YOLOv10(f'{HOME}/weights/yolov10n.pt')\n",
    "image = cv2.imread(f'{HOME}/data/dog.jpeg')\n",
    "results = model(image)[0]\n",
    "detections = sv.Detections.from_ultralytics(results)\n",
    "\n",
    "bounding_box_annotator = sv.BoundingBoxAnnotator()\n",
    "label_annotator = sv.LabelAnnotator()\n",
    "\n",
    "annotated_image = bounding_box_annotator.annotate(\n",
    "    scene=image, detections=detections)\n",
    "annotated_image = label_annotator.annotate(\n",
    "    scene=annotated_image, detections=detections)\n",
    "\n",
    "sv.plot_image(annotated_image)"
   ]
  },
  {
   "cell_type": "markdown",
   "metadata": {
    "id": "t8Epf5rhnpV_"
   },
   "source": [
    "## Download dataset from Roboflow Universe"
   ]
  },
  {
   "cell_type": "code",
   "execution_count": null,
   "metadata": {
    "colab": {
     "base_uri": "https://localhost:8080/"
    },
    "id": "BSd93ZJzZZKt",
    "outputId": "cbce34e5-4a8a-4e69-ade2-ec060f1b0b19"
   },
   "outputs": [],
   "source": [
    "!pip install pickleshare\n",
    "!mkdir {HOME}/datasets\n",
    "%cd {HOME}/datasets\n",
    "\n",
    "!pip install -q roboflow\n",
    "\n",
    "from roboflow import Roboflow\n",
    "\n",
    "\n",
    "rf = Roboflow()\n",
    "project = rf.workspace(\"selencakmak\").project(\"tumor-dj2a1\")\n",
    "version = project.version(1)\n",
    "dataset = version.download(\"yolov8\")"
   ]
  },
  {
   "cell_type": "markdown",
   "metadata": {
    "id": "yvRoruMguOIZ"
   },
   "source": [
    "**NOTE:**\n",
    "Make sure the last 4 lines of the data.yaml file have the following format:\n",
    "\n",
    "```\n",
    "test: ../test/images\n",
    "train: ../train/images\n",
    "val: ../valid/images\n",
    "```\n",
    "\n",
    "If using a dataset from Roboflow Universe, run the command below. 👇🏻"
   ]
  },
  {
   "cell_type": "code",
   "execution_count": null,
   "metadata": {
    "id": "2LLYQIS0tbC1"
   },
   "outputs": [],
   "source": [
    "!{sys.executable} -m sed -i '$d' {dataset.location}/data.yaml\n",
    "!{sys.executable} -m sed -i '$d' {dataset.location}/data.yaml\n",
    "!{sys.executable} -m sed -i '$d' {dataset.location}/data.yaml\n",
    "!{sys.executable} -m sed -i '$d' {dataset.location}/data.yaml\n",
    "!{sys.executable} -m echo -e \"test: ../test/images\\ntrain: ../train/images\\nval: ../valid/images\" >> {dataset.location}/data.yaml"
   ]
  },
  {
   "cell_type": "markdown",
   "metadata": {
    "id": "YUjFBKKqXa-u"
   },
   "source": [
    "## Custom Training"
   ]
  },
  {
   "cell_type": "code",
   "execution_count": null,
   "metadata": {
    "colab": {
     "base_uri": "https://localhost:8080/"
    },
    "id": "D2YkphuiaE7_",
    "outputId": "6145b761-5a99-4c8a-d17c-db03baa115b7"
   },
   "outputs": [],
   "source": [
    "!{sys.executable} -m yolo task=detect mode=train epochs=10 batch=2 plots=True \\\n",
    "  model=HOME/runs/detect/train10/weights/best.pt \\\n",
    "  data=HOME/datasets/weeds/data.yaml \\\n",
    "  optimizer=AdamW \\\n",
    "  verbose=True \\\n",
    "  augment=False\n"
   ]
  },
  {
   "cell_type": "code",
   "execution_count": null,
   "metadata": {
    "colab": {
     "base_uri": "https://localhost:8080/"
    },
    "id": "1MScstfHhArr",
    "outputId": "0edc27e0-b305-43a2-f169-4a71f8ced5a6"
   },
   "outputs": [],
   "source": [
    "!{sys.executable} -m ls {HOME}/runs/detect/train12/"
   ]
  },
  {
   "cell_type": "code",
   "execution_count": null,
   "metadata": {
    "colab": {
     "base_uri": "https://localhost:8080/",
     "height": 484
    },
    "id": "_J35i8Ofhjxa",
    "outputId": "46a74b23-e0a4-44be-8976-b06328225251"
   },
   "outputs": [],
   "source": [
    "%cd {HOME}\n",
    "from IPython.display import Image\n",
    "Image(filename=f'{HOME}/runs/detect/train10/confusion_matrix.png', width=600)"
   ]
  },
  {
   "cell_type": "code",
   "execution_count": null,
   "metadata": {
    "colab": {
     "base_uri": "https://localhost:8080/",
     "height": 334
    },
    "id": "A-urTWUkhRmn",
    "outputId": "bf7af346-5994-45c9-c22f-4fce5a5e8467"
   },
   "outputs": [],
   "source": [
    "%cd {HOME}\n",
    "Image(filename=f'{HOME}/runs/detect/train10/results.png', width=600)"
   ]
  },
  {
   "cell_type": "markdown",
   "metadata": {
    "id": "Sh6h0MOEy2WX"
   },
   "source": [
    "## Inference with Custom Model"
   ]
  },
  {
   "cell_type": "markdown",
   "metadata": {
    "id": "TNjsAO8m08ti"
   },
   "source": [
    "**NOTE:** Let's start by loading our newly trained model."
   ]
  },
  {
   "cell_type": "code",
   "execution_count": null,
   "metadata": {
    "id": "AY1ajwSzyXCE"
   },
   "outputs": [],
   "source": [
    "from ultralytics import YOLOv10\n",
    "import supervision as sv\n",
    "model = YOLOv10(f'{HOME}/runs/detect/train10/weights/best.pt')\n",
    "\n",
    "dataset = sv.DetectionDataset.from_yolo(\n",
    "    images_directory_path=\"HOME/datasets/weeds/valid/images\",\n",
    "    annotations_directory_path=\"HOME/datasets/weeds/valid/labels\",\n",
    "    data_yaml_path=\"HOME/datasets/weeds/data.yaml\"\n",
    ")\n",
    "\n",
    "bounding_box_annotator = sv.BoundingBoxAnnotator()\n",
    "label_annotator = sv.LabelAnnotator()"
   ]
  },
  {
   "cell_type": "markdown",
   "metadata": {
    "id": "ibNL8dwU1Jqw"
   },
   "source": [
    "**NOTE:** Let's randomly select an image from our validation set and visualize the results."
   ]
  },
  {
   "cell_type": "code",
   "execution_count": null,
   "metadata": {
    "colab": {
     "base_uri": "https://localhost:8080/",
     "height": 1000
    },
    "id": "rDuvNsnH0OEV",
    "outputId": "c2445d7b-efb7-4068-f876-6b7289d083e8"
   },
   "outputs": [],
   "source": [
    "import random\n",
    "\n",
    "random_image = random.choice(list(dataset.images.keys()))\n",
    "random_image = dataset.images[random_image]\n",
    "\n",
    "results = model(source=random_image, conf=0.25)[0]\n",
    "detections = sv.Detections.from_ultralytics(results)\n",
    "\n",
    "annotated_image = bounding_box_annotator.annotate(\n",
    "    scene=random_image, detections=detections)\n",
    "annotated_image = label_annotator.annotate(\n",
    "    scene=annotated_image, detections=detections)\n",
    "\n",
    "sv.plot_image(annotated_image)"
   ]
  }
 ],
 "metadata": {
  "accelerator": "GPU",
  "colab": {
   "provenance": []
  },
  "gpuClass": "standard",
  "kernelspec": {
   "display_name": "Python 3",
   "name": "python3"
  },
  "language_info": {
   "codemirror_mode": {
    "name": "ipython",
    "version": 3
   },
   "file_extension": ".py",
   "mimetype": "text/x-python",
   "name": "python",
   "nbconvert_exporter": "python",
   "pygments_lexer": "ipython3",
   "version": "3.9.19"
  }
 },
 "nbformat": 4,
 "nbformat_minor": 0
}
